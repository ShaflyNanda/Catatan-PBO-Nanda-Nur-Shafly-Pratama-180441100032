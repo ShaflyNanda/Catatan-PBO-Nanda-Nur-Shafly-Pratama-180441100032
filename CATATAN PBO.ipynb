{
 "cells": [
  {
   "cell_type": "markdown",
   "metadata": {},
   "source": [
    "\n",
    "# CLASS VS OBJECT\n",
    "Struktur data yang bisa kita gunakan untuk mendefinisikan objek yang menyimpan data bersama-sama nilai-nilai dan perilaku (behavior). Kelas adalah suatu entitas yang merupakan bentuk program dari suatu abstraksi untuk permasalahan dunia nyata, dan instans dari class merupakan realisasi dari beberapa objek.\n",
    "\n",
    "class merupakan sebuah objek yang di dalam nya biasanya terdapat beberapa metode yang memang merupakan isi dari sebuah class ini. Class dan metode ini biasa di sembut sebagai OOP atau object oriented programing. Dan OOP ini memang fungsinya untuk memudahkan proses atau kegiatan programing, class ini merupakan sebuah objek yang lebih complex dengan di dalamnya berisi beberapa metode Jadi, kalau metode berisi berbagai code program, maka class berisi beberapa metode.\n",
    "\n",
    "Jadi, jika kita analogikan terhadap kehidupan nyata, konsepnya bisa kita analogikan terhadap sebuah ruang kelas. Dimana ruang kelas nya berfungsi sebagai class nya Dan benda - benda yang ada di dalamnya seperti meja, kursi, papan, spidol dan yang lainnya adalah sebuah metode yang bisa kita panggil agar aktif bekerja sesuai fungsinya. Seperti sepidol yang berfungsi untuk menulis."
   ]
  },
  {
   "cell_type": "code",
   "execution_count": 10,
   "metadata": {},
   "outputs": [
    {
     "name": "stdout",
     "output_type": "stream",
     "text": [
      "Nama: Mule\n",
      "Jenis rambut: Coklat\n",
      "Nama: Mule\n",
      "Berat: 780Kg\n"
     ]
    }
   ],
   "source": [
    "class Kuda:\n",
    "    def __init__(self,nama,rambut=\"Merah\"):\n",
    "        self.nama = nama\n",
    "        self.rambut = rambut\n",
    "    def tampilkan(self):\n",
    "        print(\"Nama:\",self.nama)\n",
    "        print(\"Jenis rambut:\",self.rambut)\n",
    "        \n",
    "class Keledai:\n",
    "    def __init__(self,nama,berat=\"780Kg\"):\n",
    "        self.nama = nama\n",
    "        self.berat = berat\n",
    "    def tampil(self):\n",
    "        print(\"Nama:\",self.nama)\n",
    "        print(\"Berat:\",self.berat)\n",
    "        \n",
    "class Mule(Keledai,Kuda):\n",
    "    def __init__(self,nama,berat=\"500Kg\",rambut=\"Merah\"):\n",
    "        self.nama = nama\n",
    "        self.berat = berat\n",
    "        self.rambut = rambut\n",
    "    \n",
    "anak = Mule(\"Mule\",\"780Kg\",\"Coklat\")\n",
    "anak.tampilkan()\n",
    "anak.tampil()"
   ]
  },
  {
   "cell_type": "code",
   "execution_count": 24,
   "metadata": {},
   "outputs": [
    {
     "name": "stdout",
     "output_type": "stream",
     "text": [
      "Nama = shafly\n",
      "Kode Pegawai = 1313\n",
      "Lokasi Cabang = kamal\n"
     ]
    }
   ],
   "source": [
    "class orang :\n",
    "    def __init__(self,nama):\n",
    "        self.nama = nama\n",
    "    def tampilkan (self):\n",
    "        print(self.nama)\n",
    "class karyawan(orang):\n",
    "    def __init__(self,nama,kode_pegawai):\n",
    "        super().__init__(nama)\n",
    "        self.kode = kode_pegawai\n",
    "    def tampilkan(self):\n",
    "        print(self.nama,self.kode)\n",
    "class karyawan_cabang (karyawan):\n",
    "    def __init__(self,nama,kode_pegawai,lokasi_cabang):\n",
    "        super().__init__(nama,kode_pegawai)\n",
    "        self.lokasi = lokasi_cabang\n",
    "    def tampilkan (self):\n",
    "        print(\"Nama =\",self.nama)\n",
    "        print(\"Kode Pegawai =\",self.kode)\n",
    "        print(\"Lokasi Cabang =\",self.lokasi)\n",
    "c = karyawan_cabang (\"shafly\",\"1313\",\"kamal\")\n",
    "c.tampilkan()\n",
    "        "
   ]
  },
  {
   "cell_type": "code",
   "execution_count": 2,
   "metadata": {},
   "outputs": [
    {
     "name": "stdout",
     "output_type": "stream",
     "text": [
      "Nama saya Nanda Nur Shafly Pratama\n",
      "Saya seorang mahasiswa Universitas Trunojoyo Madura\n",
      "NIM saya 180441100032 \n",
      "\n",
      "Nama saya Ibu Rowan\n",
      "NIP saya 19192801112\n",
      "Saya seorang Dosen\n",
      "\n",
      "Nama saya Adi\n",
      "NIP saya 19908198653\n",
      "Saya seorang karyawan\n",
      "\n"
     ]
    }
   ],
   "source": [
    "class Orang:\n",
    "    def __init__(self,nama):\n",
    "        self.nama = nama\n",
    "        print(\"Nama saya\",self.nama)\n",
    "        \n",
    "class Mahasiswa(Orang):\n",
    "    def __init__(self,nim,name):\n",
    "        super().__init__(name)\n",
    "        self.nim = nim\n",
    "        print(\"Saya seorang mahasiswa Universitas Trunojoyo Madura\")\n",
    "        print(\"NIM saya\", self.nim,\"\\n\")\n",
    "        \n",
    "class Pegawai(Orang):\n",
    "    def __init__(self,nip,name):\n",
    "        super().__init__(name)\n",
    "        self.nip = nip\n",
    "        print(\"NIP saya\",self.nip)\n",
    "\n",
    "class Karyawan(Pegawai):\n",
    "    def __init__(self,nip,name):\n",
    "        super().__init__(nip,name)\n",
    "        print(\"Saya seorang karyawan\\n\")\n",
    "        \n",
    "class Dosen(Pegawai):\n",
    "    def __init__(self,nip,name):\n",
    "        super().__init__(nip,name)\n",
    "        print(\"Saya seorang Dosen\\n\")\n",
    "        \n",
    "saya = Mahasiswa(\"180441100032\",\"Nanda Nur Shafly Pratama\")\n",
    "ibu = Dosen(\"19192801112\",\"Ibu Rowan\")\n",
    "bpk = Karyawan(\"19908198653\",\"Adi\")"
   ]
  },
  {
   "cell_type": "markdown",
   "metadata": {},
   "source": [
    "# INHERITANCE\n",
    "Inheritance (Pewarisan atau turunan) merupakan sebuah konsep dalam pemrograman yang paling penting, pada inheritance terdapat sebuah proses dimana sebuah class dapat mengakses semua property dan semua method yang terdapat dari class yang lainnya.\n",
    "\n",
    "Jika kita berpikir tentang pewarisan dalam hal biologi, kita dapat memikirkan seorang anak yang mewarisi sifat-sifat tertentu dari orang tua mereka. Artinya, seorang anak dapat mewarisi tinggi atau warna mata orang tua. Anak-anak juga dapat berbagi nama belakang yang sama dengan orang tua mereka. Kelas yang disebut kelas anak atau subclass mewarisi metode dan variabel dari kelas induk atau kelas dasar."
   ]
  },
  {
   "cell_type": "code",
   "execution_count": 2,
   "metadata": {},
   "outputs": [
    {
     "name": "stdout",
     "output_type": "stream",
     "text": [
      "brian\n",
      "Proggramming Python\n",
      "Diana\n"
     ]
    }
   ],
   "source": [
    "class user:\n",
    "    name = \"\"\n",
    "    def __init__ (self,nama):\n",
    "        self.name = nama\n",
    "    def printname (self):\n",
    "        print (self.name)\n",
    "\n",
    "class programer(user):\n",
    "    def __init__ (self,nama):\n",
    "        self.name = nama \n",
    "    def dopython (self):\n",
    "        print (\"Proggramming Python\")\n",
    "\n",
    "brian = user(\"brian\")\n",
    "brian.printname()\n",
    "\n",
    "diana = programer(\"Diana\")\n",
    "diana.dopython()\n",
    "diana.printname()\n",
    "    "
   ]
  },
  {
   "cell_type": "code",
   "execution_count": 6,
   "metadata": {},
   "outputs": [
    {
     "name": "stdout",
     "output_type": "stream",
     "text": [
      "terry fish\n",
      "bone\n",
      "false\n",
      "the fish can swim backwards\n",
      "\n",
      "caseyfish\n",
      "The fish is swimming\n",
      "the clown fish\n",
      "\n",
      "shark\n"
     ]
    }
   ],
   "source": [
    "class fish:\n",
    "    def __init__ (self,first_name,last_name=\"fish\",skeleton=\"bone\",eyelids=\"false\"):\n",
    "        self.first_name = first_name\n",
    "        self.last_name = last_name\n",
    "        self.skeleton = skeleton\n",
    "        self.eyelids = eyelids\n",
    "    def swim(self):\n",
    "        print(\"The fish is swimming\")\n",
    "    def swim_backwards(self):\n",
    "        print(\"the fish can swim backwards\")\n",
    "\n",
    "class trout(fish):\n",
    "    pass\n",
    "\n",
    "class clownfish(fish):\n",
    "    def live_with_anemone(self):\n",
    "        print(\"the clown fish\")\n",
    "\n",
    "terry = trout(\"terry\")\n",
    "print(terry.first_name+\" \"+terry.last_name)\n",
    "print(terry.skeleton)\n",
    "print(terry.eyelids)\n",
    "terry.swim\n",
    "terry.swim_backwards()\n",
    "\n",
    "print()\n",
    "\n",
    "casey = clownfish(\"casey\")\n",
    "print(casey.first_name+ \"\" + casey.last_name)\n",
    "casey.swim()\n",
    "casey.live_with_anemone()\n",
    "\n",
    "class shark(fish):\n",
    "    def __init__ (self,first_name,last_name=\"shark\",skeleton=\"cartilage\",eyelids=\"true\"):\n",
    "        self.first_name = first_name\n",
    "        self.last_name = last_name\n",
    "        self.skeleton = skeleton\n",
    "        self.eyelids = eyelids\n",
    "    def swim_backwards(self):\n",
    "        print(\"shark makan orang\")\n",
    "        \n",
    "class trut(fish):\n",
    "    def __init__(self,water,first_name,last_name,skeleton,eyelids):\n",
    "        self.water = water\n",
    "        fish.__init__(self,first_name,last_name,skeleton,eyelids)\n",
    "        \n",
    "        \n",
    "print()\n",
    "        \n",
    "shafly = trut(\"fresh water\",\"shark\",\"fish\",\"no bone\",\"true\")\n",
    "print(shafly.first_name)\n",
    "\n",
    "class coral:\n",
    "    def community(self):\n",
    "        print(\"coral adalah terumbu karang\")\n",
    "\n",
    "class anemone :\n",
    "    def protect_clownfish(self):\n",
    "        print(\"anemone adalah rumah nemo\")\n",
    "\n",
    "class coralreet(coral,anemone) :\n",
    "    pass\n",
    "\n",
    "\n",
    "    \n",
    "\n",
    "\n"
   ]
  },
  {
   "cell_type": "code",
   "execution_count": 7,
   "metadata": {},
   "outputs": [
    {
     "name": "stdout",
     "output_type": "stream",
     "text": [
      "Nama depan saya brian\n",
      "Nama depan saya Diana\n",
      "Nama belakang saya Rani\n",
      "name: Diana Rani\n",
      "Programer python\n"
     ]
    }
   ],
   "source": [
    "class User:\n",
    "    name = \"\"\n",
    "    def __init__(self, firstname):\n",
    "        self.firstname = firstname\n",
    "        print(\"Nama depan saya\",self.firstname)\n",
    "class Programmer(User):\n",
    "    def __init__(self,first,lastname):\n",
    "        super().__init__(first)\n",
    "        print(\"Nama belakang saya\",lastname)\n",
    "        self.lastname = lastname        \n",
    "    def doPython(self):\n",
    "        print(\"Programer python\")\n",
    "    def printName(self):\n",
    "        print(\"name:\",self.firstname,self.lastname)\n",
    "        \n",
    "brian = User(\"brian\")\n",
    "diana = Programmer(\"Diana\",\"Rani\")\n",
    "diana.printName()\n",
    "diana.doPython()"
   ]
  },
  {
   "cell_type": "code",
   "execution_count": 8,
   "metadata": {},
   "outputs": [
    {
     "name": "stdout",
     "output_type": "stream",
     "text": [
      "the shark's skeleton is made of cartilage\n",
      "the clownfish's skeleton made bone\n",
      "the shark is swimming\n",
      "the clowfish is swimming\n"
     ]
    }
   ],
   "source": [
    "class shark():\n",
    "    def swim(self):\n",
    "        print(\"the shark is swimming\")\n",
    "    def swim_backwards(self):\n",
    "        print(\"the sharks cannot swim backward, but can sink backwards\")\n",
    "    def skeleton(self):\n",
    "        print(\"the shark's skeleton is made of cartilage\")\n",
    "        \n",
    "class clownfish():\n",
    "    def swim(self):\n",
    "        print(\"the clowfish is swimming\")\n",
    "    def swim_backwars(self):\n",
    "        print(\"the clownfish can swim backward\")\n",
    "    def skeleton (self):\n",
    "        print(\"the clownfish's skeleton made bone\")\n",
    "        \n",
    "sammy = shark()\n",
    "sammy.skeleton()\n",
    "\n",
    "casey = clownfish()\n",
    "casey.skeleton()\n",
    "\n",
    "def in_the_pacific(fish):\n",
    "    fish.swim()\n",
    "    \n",
    "in_the_pacific(sammy)\n",
    "in_the_pacific(casey)\n",
    "\n",
    "    "
   ]
  },
  {
   "cell_type": "code",
   "execution_count": 9,
   "metadata": {},
   "outputs": [
    {
     "name": "stdout",
     "output_type": "stream",
     "text": [
      "Groaooorrr\n",
      "GUUGG GUGG\n"
     ]
    }
   ],
   "source": [
    "class bear():\n",
    "    def sound(self):\n",
    "        print(\"Groaooorrr\")\n",
    "class dog():\n",
    "    def sound(self):\n",
    "        print(\"GUUGG GUGG\")\n",
    "        \n",
    "def makaSound(animal):\n",
    "    animal.sound()\n",
    "    \n",
    "bearObj = bear()\n",
    "dogObj = dog()\n",
    "\n",
    "makaSound(bearObj)\n",
    "makaSound(dogObj)"
   ]
  },
  {
   "cell_type": "markdown",
   "metadata": {},
   "source": [
    "\n",
    "\n",
    "# POLYMORPHISME\n",
    "Dari segi bahasa, Polimorfisme (bahasa inggris: Polymorphism) berasal dari dua kata bahasa latin yakni poly dan morph. Poly berarti banyak, dan morph berarti bentuk. Polimorfisme berarti banyak bentuk.\n",
    "\n",
    "Di dalam pemrograman objek, polimorfisme adalah konsep dimana terdapat banyak class yang memiliki signature method yang sama. Implementasi dari method-method tersebut diserahkan kepada tiap class, akan tetapi cara pemanggilan method harus sama. Agar kita dapat ‘memaksakan’ signature method yang sama pada banyak class, class tersebut harus diturunkan dari sebuah abstract class atau object interface."
   ]
  },
  {
   "cell_type": "code",
   "execution_count": 10,
   "metadata": {},
   "outputs": [
    {
     "name": "stdout",
     "output_type": "stream",
     "text": [
      "the shark is swimming\n",
      "the sharks cannot swim backward, but can sink backwards\n",
      "the shark's skeleton is made of cartilage\n",
      "the clowfish is swimming\n",
      "the clownfish can swim backward\n",
      "the clownfish's skeleton made bone\n"
     ]
    }
   ],
   "source": [
    "class shark():\n",
    "    def swim(self):\n",
    "        print(\"the shark is swimming\")\n",
    "    def swim_backwards(self):\n",
    "        print(\"the sharks cannot swim backward, but can sink backwards\")\n",
    "    def skeleton(self):\n",
    "        print(\"the shark's skeleton is made of cartilage\")\n",
    "        \n",
    "class clownfish():\n",
    "    def swim(self):\n",
    "        print(\"the clowfish is swimming\")\n",
    "    def swim_backwards(self):\n",
    "        print(\"the clownfish can swim backward\")\n",
    "    def skeleton (self):\n",
    "        print(\"the clownfish's skeleton made bone\")\n",
    "        \n",
    "sammy = shark()\n",
    "casey = clownfish()\n",
    "\n",
    "for fish in (sammy,casey):\n",
    "    fish.swim()\n",
    "    fish.swim_backwards()\n",
    "    fish.skeleton()\n",
    "    \n",
    "\n",
    "    "
   ]
  },
  {
   "cell_type": "code",
   "execution_count": 11,
   "metadata": {},
   "outputs": [
    {
     "name": "stdout",
     "output_type": "stream",
     "text": [
      "document1: Show pdf contents!\n",
      "document2: Show pdf contents!\n",
      "document3: show word contents!\n"
     ]
    }
   ],
   "source": [
    "class document:\n",
    "    def __init__(self,nama):\n",
    "        self.nama = nama\n",
    "        \n",
    "    def show(self):\n",
    "        raise NotImplementError(\"subclass must implement abstrak method\")\n",
    "    \n",
    "class pdf(document):\n",
    "    def show(self):\n",
    "        return \"Show pdf contents!\"\n",
    "    \n",
    "class word(document):\n",
    "    def show(self):\n",
    "        return \"show word contents!\"\n",
    "    \n",
    "documents = [pdf('document1'),\n",
    "            pdf('document2'),\n",
    "            word('document3')]\n",
    "for document in documents:\n",
    "    print(document.nama + ': ' + document.show())"
   ]
  },
  {
   "cell_type": "code",
   "execution_count": 1,
   "metadata": {},
   "outputs": [
    {
     "name": "stdout",
     "output_type": "stream",
     "text": [
      "bananatruck : truck driving slowly because haevily loaded:\n",
      "orangetruck : truck driving slowly because haevily loaded:\n",
      "23 : sportcar driving!\n"
     ]
    }
   ],
   "source": [
    "class car :\n",
    "    def __init__(self,nama):\n",
    "        self.nama = nama\n",
    "    def drive(self):\n",
    "        raise NotImplementedError(\"subclass must implatament abstrack method\")\n",
    "    def stop(self):\n",
    "        raise NotImplementedError(\"subclass must implament abstrack method\")\n",
    "        \n",
    "class sportcar(car):\n",
    "    def drive(self):\n",
    "        return'sportcar driving!'\n",
    "    def stop(self):\n",
    "        return 'sportcar braking'\n",
    "class truck(car):\n",
    "    def drive(self):\n",
    "        return 'truck driving slowly because haevily loaded:'\n",
    "    def stop(self):\n",
    "        return 'truk braking!'\n",
    "    \n",
    "cars = [truck('bananatruck'),\n",
    "       truck('orangetruck'),\n",
    "       sportcar('23')]\n",
    "\n",
    "for car in cars :\n",
    "    print(car.nama + ' : '+ car.drive())\n",
    "    "
   ]
  },
  {
   "attachments": {},
   "cell_type": "markdown",
   "metadata": {},
   "source": [
    "# Operator and Method Overloading\n",
    "\n",
    "defined two product method, but we can only use the second product method, as python does not supports method overloading. We may define many method of same name and different argument but we can only use the latest defined method.\n",
    "Calling the other method will produce an error.\n"
   ]
  },
  {
   "cell_type": "code",
   "execution_count": 2,
   "metadata": {},
   "outputs": [
    {
     "name": "stdout",
     "output_type": "stream",
     "text": [
      "20\n",
      "120\n"
     ]
    }
   ],
   "source": [
    "def product(*args):\n",
    "    answer = 1\n",
    "    for x in args:\n",
    "        answer = answer * x\n",
    "    print(answer)\n",
    "product(4,5)\n",
    "product(4,5,6)"
   ]
  },
  {
   "cell_type": "markdown",
   "metadata": {},
   "source": [
    "### Method Overloading\n",
    "<img src=\"1.png\">\n",
    "define a method in multiple ways to call it.\n",
    "Given a single method or function, we can specify the number of parameters ourself. Depending on the function definition, it can be called with zero, one, two or more parameters."
   ]
  },
  {
   "cell_type": "code",
   "execution_count": 3,
   "metadata": {},
   "outputs": [
    {
     "name": "stdout",
     "output_type": "stream",
     "text": [
      "100\n",
      "HIGeeks\n"
     ]
    }
   ],
   "source": [
    "def add(datatype,*args):\n",
    "    if datatype==\"int\":\n",
    "        answer = 0\n",
    "    if datatype==\"str\":\n",
    "        answer = \"\"\n",
    "    for x in args:\n",
    "        answer = answer + x\n",
    "    print(answer)\n",
    "#integer\n",
    "add(\"int\",5,6,7,82)\n",
    "#string\n",
    "add(\"str\",\"HI\",\"Geeks\")"
   ]
  },
  {
   "cell_type": "markdown",
   "metadata": {},
   "source": [
    "### Method Overriding\n",
    "<img src=\"2.png\">\n",
    "Operator Overloading lets you redefine the meaning of operator + operator -> to add two numbers objects, as well as two string objects. Because + operator is overloaded by both int class and str class.\n",
    "\n",
    "Operator Overloading is achieved by defining a special method in the class definition"
   ]
  },
  {
   "cell_type": "code",
   "execution_count": 4,
   "metadata": {},
   "outputs": [
    {
     "name": "stdout",
     "output_type": "stream",
     "text": [
      "Hello \n",
      "Hello Guido\n"
     ]
    }
   ],
   "source": [
    "class Human: \n",
    "    def sayHello(self, name=None):\n",
    "        if name is not None:\n",
    "            print ('Hello ' + name)\n",
    "        else:\n",
    "            print ('Hello ')\n",
    " \n",
    "# Create instance\n",
    "obj = Human()\n",
    " \n",
    "# Call the method\n",
    "obj.sayHello()\n",
    " \n",
    "# Call the method with a parameter\n",
    "obj.sayHello('Guido')"
   ]
  },
  {
   "cell_type": "markdown",
   "metadata": {},
   "source": [
    "### Magic Method\n",
    "<img src=\"3.png\">\n"
   ]
  },
  {
   "cell_type": "code",
   "execution_count": 5,
   "metadata": {},
   "outputs": [
    {
     "name": "stdout",
     "output_type": "stream",
     "text": [
      "Point object is at (3,1)\n",
      "Point object is at (1,5)\n"
     ]
    }
   ],
   "source": [
    "class Point:\n",
    "    def __init__(self,x=0,y=0):\n",
    "        self.x = x\n",
    "        self.y = y\n",
    "    #def __str__(self):\n",
    "    #    return \"((0),(1))\".format(self.x,self.y)\n",
    "    def __str__(self):\n",
    "        return \"Point object is at (\"+str(self.x)+\",\"+str(self.y)+\")\"\n",
    "    def __sub__(self,other):\n",
    "        x = self.x - other.x\n",
    "        y = self.y - other.y\n",
    "        return Point(x,y)\n",
    "    def __add__(self,other):\n",
    "        x = self.x + other.x\n",
    "        y = self.y + other.y\n",
    "        return Point(x,y)\n",
    "p1 = Point(2,3)\n",
    "p2 = Point(-1,2)\n",
    "print(p1-p2)\n",
    "print(p1+p2)"
   ]
  },
  {
   "cell_type": "markdown",
   "metadata": {},
   "source": [
    "<img src=\"4.png\">\n",
    "<img src=\"5.png\">"
   ]
  },
  {
   "cell_type": "code",
   "execution_count": 6,
   "metadata": {},
   "outputs": [
    {
     "name": "stdout",
     "output_type": "stream",
     "text": [
      "2/4\n",
      "6/8\n",
      "2/4\n"
     ]
    }
   ],
   "source": [
    "class Fraction:\n",
    "    def __init__(self,top,bottom):\n",
    "        self.num = top\n",
    "        self.den = bottom\n",
    "    #def show(self):\n",
    "    #   print( str(self.num)+\"/\"+str(self.den) )\n",
    "    def __str__(self):\n",
    "        return str(self.num)+\"/\"+str(self.den)\n",
    "    def __add__(self,otherfraction):\n",
    "        newnum = self.num*otherfraction.den+self.den*otherfraction.num\n",
    "        newden = self.den * otherfraction.den\n",
    "        return Fraction(newnum,newden)\n",
    "    def __truediv__(self,otherfraction):\n",
    "        newnum = self.num * otherfraction.den\n",
    "        newden = self.den * otherfraction.num\n",
    "        return Fraction(newnum,newden)\n",
    "f = Fraction(2,4)\n",
    "#f.show()\n",
    "print(f)\n",
    "f1 = Fraction(1,4)\n",
    "f2 = Fraction(1,2)\n",
    "print(f1+f2)\n",
    "print(f1/f2)"
   ]
  },
  {
   "cell_type": "markdown",
   "metadata": {},
   "source": [
    "<img src=\"6.png\">"
   ]
  },
  {
   "cell_type": "markdown",
   "metadata": {},
   "source": [
    "# Encapsulation\n",
    "<img src=\"7.png\">\n",
    "<img src=\"9.png\">\n",
    "<img src=\"10.png\">\n",
    "\n",
    "### Private Attribute"
   ]
  },
  {
   "cell_type": "code",
   "execution_count": 8,
   "metadata": {},
   "outputs": [
    {
     "name": "stdout",
     "output_type": "stream",
     "text": [
      "22\n",
      "23\n",
      "23\n"
     ]
    }
   ],
   "source": [
    "class Robot(object):\n",
    "    def __init__(self):\n",
    "        self.__version = 22\n",
    "    def getVersion(self):\n",
    "        print(self.__version)\n",
    "    def setVersion(self,version):\n",
    "        self.__version = version\n",
    "        \n",
    "obj = Robot()\n",
    "obj.getVersion()\n",
    "obj.setVersion(23)\n",
    "obj.getVersion()\n",
    "#print(obj.__version) #jika tanpa komentar akan eror\n",
    "print(obj._Robot__version) #Harus memasukan nama class karena tidak bisa diakses dari luar class\n"
   ]
  },
  {
   "cell_type": "markdown",
   "metadata": {},
   "source": [
    "A single underscore: Private variable, it should not be accessed directly. But nothing stops you from doing that (except convention). A double underscore: Private variable, harder to access but still possible.\n",
    "\n",
    "### Private Method"
   ]
  },
  {
   "cell_type": "code",
   "execution_count": null,
   "metadata": {},
   "outputs": [],
   "source": [
    "class Car:\n",
    "    __maxspeed = 0\n",
    "    __name = \"\"\n",
    "\n",
    "    def __init__(self):\n",
    "        self.__maxspeed = 200\n",
    "        self.__name = (\"Supercar\")\n",
    "\n",
    "    def drive(self):\n",
    "        print ('driving. maxspeed ' + str(self.__maxspeed))\n",
    "    \n",
    "    def setMaxSpeed(self,speed):\n",
    "        self.__maxspeed = speed\n",
    "        \n",
    "redcar = Car()\n",
    "redcar.drive()\n",
    "redcar.__maxspeed = 10  # will not change variable because its private\n",
    "redcar.drive()\n",
    "redcar._Car__maxspeed = 10 #Harus menggunakan _class sebelum nama method\n",
    "redcar.drive()\n",
    "#Atau bisa menggunakan method\n",
    "redcar.setMaxSpeed(15)\n",
    "redcar.drive()"
   ]
  },
  {
   "attachments": {},
   "cell_type": "markdown",
   "metadata": {},
   "source": [
    "private methods __updateSoftware(). \n",
    "This function cannot be called on the object directly, only from within the class.\n",
    "\n",
    "<img src=\"11.png\">\n",
    "\n",
    "1. we can restrict access to methods and variables.This prevent data from direct modification which is called        encapsulation.\n",
    "2. This concept is a little tricky to explain with our example. Our Legs are binded to help us walk. Our hands, help us hold things. This binding of the properties to functions is called Encapsulation.\n",
    "3. It hides the implementation details[not required to know ] this is called encapsulation."
   ]
  },
  {
   "cell_type": "code",
   "execution_count": null,
   "metadata": {},
   "outputs": [],
   "source": []
  }
 ],
 "metadata": {
  "kernelspec": {
   "display_name": "Python 3",
   "language": "python",
   "name": "python3"
  },
  "language_info": {
   "codemirror_mode": {
    "name": "ipython",
    "version": 3
   },
   "file_extension": ".py",
   "mimetype": "text/x-python",
   "name": "python",
   "nbconvert_exporter": "python",
   "pygments_lexer": "ipython3",
   "version": "3.7.1"
  }
 },
 "nbformat": 4,
 "nbformat_minor": 2
}
