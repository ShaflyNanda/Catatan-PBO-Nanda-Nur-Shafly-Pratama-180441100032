 {
 "cells": [
  {
   "cell_type": "code",
   "execution_count": 1,
   "metadata": {},
   "outputs": [],
   "source": [
    "class Kuda:\n",
    "    def __init__(self,nama,rambut=\"Merah\"):\n",
    "        self.nama = nama\n",
    "        self.rambut = rambut\n",
    "    def tampilkan(self):\n",
    "        print(\"Nama:\",self.nama)\n",
    "        print(\"Jenis rambut:\",self.rambut)\n",
    "        \n",
    "class Keledai:\n",
    "    def __init__(self,nama,berat=\"780Kg\"):\n",
    "        self.nama = nama\n",
    "        self.berat = berat\n",
    "    def tampil(self):\n",
    "        print(\"Nama:\",self.nama)\n",
    "        print(\"Berat:\",self.berat)\n",
    "        \n",
    "class Mule(Keledai,Kuda):\n",
    "    def __init__(self,nama,berat=\"500Kg\",rambut=\"Merah\"):\n",
    "        self.nama = nama\n",
    "        self.berat = berat\n",
    "        self.rambut = rambut\n",
    "    \n",
    "anak = Mule(\"Mule\",\"780Kg\",\"Coklat\")\n",
    "anak.tampilkan()\n",
    "anak.tampil()"
   ]
  },
  {
   "cell_type": "code",
   "execution_count": 24,
   "metadata": {},
   "outputs": [
    {
     "name": "stdout",
     "output_type": "stream",
     "text": [
      "Nama = shafly\n",
      "Kode Pegawai = 1313\n",
      "Lokasi Cabang = kamal\n"
     ]
    }
   ],
   "source": [
    "class orang :\n",
    "    def __init__(self,nama):\n",
    "        self.nama = nama\n",
    "    def tampilkan (self):\n",
    "        print(self.nama)\n",
    "class karyawan(orang):\n",
    "    def __init__(self,nama,kode_pegawai):\n",
    "        super().__init__(nama)\n",
    "        self.kode = kode_pegawai\n",
    "    def tampilkan(self):\n",
    "        print(self.nama,self.kode)\n",
    "class karyawan_cabang (karyawan):\n",
    "    def __init__(self,nama,kode_pegawai,lokasi_cabang):\n",
    "        super().__init__(nama,kode_pegawai)\n",
    "        self.lokasi = lokasi_cabang\n",
    "    def tampilkan (self):\n",
    "        print(\"Nama =\",self.nama)\n",
    "        print(\"Kode Pegawai =\",self.kode)\n",
    "        print(\"Lokasi Cabang =\",self.lokasi)\n",
    "c = karyawan_cabang (\"shafly\",\"1313\",\"kamal\")\n",
    "c.tampilkan()\n",
    "        "
   ]
  },
  {
   "cell_type": "code",
   "execution_count": 2,
   "metadata": {},
   "outputs": [
    {
     "name": "stdout",
     "output_type": "stream",
     "text": [
      "Nama saya Nanda Nur Shafly Pratama\n",
      "Saya seorang mahasiswa Universitas Trunojoyo Madura\n",
      "NIM saya 180441100032 \n",
      "\n",
      "Nama saya Ibu Rowan\n",
      "NIP saya 19192801112\n",
      "Saya seorang Dosen\n",
      "\n",
      "Nama saya Adi\n",
      "NIP saya 19908198653\n",
      "Saya seorang karyawan\n",
      "\n"
     ]
    }
   ],
   "source": [
    "class Orang:\n",
    "    def __init__(self,nama):\n",
    "        self.nama = nama\n",
    "        print(\"Nama saya\",self.nama)\n",
    "        \n",
    "class Mahasiswa(Orang):\n",
    "    def __init__(self,nim,name):\n",
    "        super().__init__(name)\n",
    "        self.nim = nim\n",
    "        print(\"Saya seorang mahasiswa Universitas Trunojoyo Madura\")\n",
    "        print(\"NIM saya\", self.nim,\"\\n\")\n",
    "        \n",
    "class Pegawai(Orang):\n",
    "    def __init__(self,nip,name):\n",
    "        super().__init__(name)\n",
    "        self.nip = nip\n",
    "        print(\"NIP saya\",self.nip)\n",
    "\n",
    "class Karyawan(Pegawai):\n",
    "    def __init__(self,nip,name):\n",
    "        super().__init__(nip,name)\n",
    "        print(\"Saya seorang karyawan\\n\")\n",
    "        \n",
    "class Dosen(Pegawai):\n",
    "    def __init__(self,nip,name):\n",
    "        super().__init__(nip,name)\n",
    "        print(\"Saya seorang Dosen\\n\")\n",
    "        \n",
    "saya = Mahasiswa(\"180441100032\",\"Nanda Nur Shafly Pratama\")\n",
    "ibu = Dosen(\"19192801112\",\"Ibu Rowan\")\n",
    "bpk = Karyawan(\"19908198653\",\"Adi\")"
   ]
  },
  {
   "cell_type": "code",
   "execution_count": 2,
   "metadata": {},
   "outputs": [
    {
     "name": "stdout",
     "output_type": "stream",
     "text": [
      "brian\n",
      "Proggramming Python\n",
      "Diana\n"
     ]
    }
   ],
   "source": [
    "class user:\n",
    "    name = \"\"\n",
    "    def __init__ (self,nama):\n",
    "        self.name = nama\n",
    "    def printname (self):\n",
    "        print (self.name)\n",
    "\n",
    "class programer(user):\n",
    "    def __init__ (self,nama):\n",
    "        self.name = nama \n",
    "    def dopython (self):\n",
    "        print (\"Proggramming Python\")\n",
    "\n",
    "brian = user(\"brian\")\n",
    "brian.printname()\n",
    "\n",
    "diana = programer(\"Diana\")\n",
    "diana.dopython()\n",
    "diana.printname()\n",
    "    "
   ]
  },
  {
   "cell_type": "code",
   "execution_count": 6,
   "metadata": {},
   "outputs": [
    {
     "name": "stdout",
     "output_type": "stream",
     "text": [
      "terry fish\n",
      "bone\n",
      "false\n",
      "the fish can swim backwards\n",
      "\n",
      "caseyfish\n",
      "The fish is swimming\n",
      "the clown fish\n",
      "\n",
      "shark\n"
     ]
    }
   ],
   "source": [
    "class fish:\n",
    "    def __init__ (self,first_name,last_name=\"fish\",skeleton=\"bone\",eyelids=\"false\"):\n",
    "        self.first_name = first_name\n",
    "        self.last_name = last_name\n",
    "        self.skeleton = skeleton\n",
    "        self.eyelids = eyelids\n",
    "    def swim(self):\n",
    "        print(\"The fish is swimming\")\n",
    "    def swim_backwards(self):\n",
    "        print(\"the fish can swim backwards\")\n",
    "\n",
    "class trout(fish):\n",
    "    pass\n",
    "\n",
    "class clownfish(fish):\n",
    "    def live_with_anemone(self):\n",
    "        print(\"the clown fish\")\n",
    "\n",
    "terry = trout(\"terry\")\n",
    "print(terry.first_name+\" \"+terry.last_name)\n",
    "print(terry.skeleton)\n",
    "print(terry.eyelids)\n",
    "terry.swim\n",
    "terry.swim_backwards()\n",
    "\n",
    "print()\n",
    "\n",
    "casey = clownfish(\"casey\")\n",
    "print(casey.first_name+ \"\" + casey.last_name)\n",
    "casey.swim()\n",
    "casey.live_with_anemone()\n",
    "\n",
    "class shark(fish):\n",
    "    def __init__ (self,first_name,last_name=\"shark\",skeleton=\"cartilage\",eyelids=\"true\"):\n",
    "        self.first_name = first_name\n",
    "        self.last_name = last_name\n",
    "        self.skeleton = skeleton\n",
    "        self.eyelids = eyelids\n",
    "    def swim_backwards(self):\n",
    "        print(\"shark makan orang\")\n",
    "        \n",
    "class trut(fish):\n",
    "    def __init__(self,water,first_name,last_name,skeleton,eyelids):\n",
    "        self.water = water\n",
    "        fish.__init__(self,first_name,last_name,skeleton,eyelids)\n",
    "        \n",
    "        \n",
    "print()\n",
    "        \n",
    "shafly = trut(\"fresh water\",\"shark\",\"fish\",\"no bone\",\"true\")\n",
    "print(shafly.first_name)\n",
    "\n",
    "class coral:\n",
    "    def community(self):\n",
    "        print(\"coral adalah terumbu karang\")\n",
    "\n",
    "class anemone :\n",
    "    def protect_clownfish(self):\n",
    "        print(\"anemone adalah rumah nemo\")\n",
    "\n",
    "class coralreet(coral,anemone) :\n",
    "    pass\n",
    "\n",
    "\n",
    "    \n",
    "\n",
    "\n"
   ]
  },
  {
   "cell_type": "code",
   "execution_count": 7,
   "metadata": {},
   "outputs": [
    {
     "name": "stdout",
     "output_type": "stream",
     "text": [
      "Nama depan saya brian\n",
      "Nama depan saya Diana\n",
      "Nama belakang saya Rani\n",
      "name: Diana Rani\n",
      "Programer python\n"
     ]
    }
   ],
   "source": [
    "class User:\n",
    "    name = \"\"\n",
    "    def __init__(self, firstname):\n",
    "        self.firstname = firstname\n",
    "        print(\"Nama depan saya\",self.firstname)\n",
    "class Programmer(User):\n",
    "    def __init__(self,first,lastname):\n",
    "        super().__init__(first)\n",
    "        print(\"Nama belakang saya\",lastname)\n",
    "        self.lastname = lastname        \n",
    "    def doPython(self):\n",
    "        print(\"Programer python\")\n",
    "    def printName(self):\n",
    "        print(\"name:\",self.firstname,self.lastname)\n",
    "        \n",
    "brian = User(\"brian\")\n",
    "diana = Programmer(\"Diana\",\"Rani\")\n",
    "diana.printName()\n",
    "diana.doPython()"
   ]
  },
  {
   "cell_type": "code",
   "execution_count": 8,
   "metadata": {},
   "outputs": [
    {
     "name": "stdout",
     "output_type": "stream",
     "text": [
      "the shark's skeleton is made of cartilage\n",
      "the clownfish's skeleton made bone\n",
      "the shark is swimming\n",
      "the clowfish is swimming\n"
     ]
    }
   ],
   "source": [
    "class shark():\n",
    "    def swim(self):\n",
    "        print(\"the shark is swimming\")\n",
    "    def swim_backwards(self):\n",
    "        print(\"the sharks cannot swim backward, but can sink backwards\")\n",
    "    def skeleton(self):\n",
    "        print(\"the shark's skeleton is made of cartilage\")\n",
    "        \n",
    "class clownfish():\n",
    "    def swim(self):\n",
    "        print(\"the clowfish is swimming\")\n",
    "    def swim_backwars(self):\n",
    "        print(\"the clownfish can swim backward\")\n",
    "    def skeleton (self):\n",
    "        print(\"the clownfish's skeleton made bone\")\n",
    "        \n",
    "sammy = shark()\n",
    "sammy.skeleton()\n",
    "\n",
    "casey = clownfish()\n",
    "casey.skeleton()\n",
    "\n",
    "def in_the_pacific(fish):\n",
    "    fish.swim()\n",
    "    \n",
    "in_the_pacific(sammy)\n",
    "in_the_pacific(casey)\n",
    "\n",
    "    "
   ]
  },
  {
   "cell_type": "code",
   "execution_count": 9,
   "metadata": {},
   "outputs": [
    {
     "name": "stdout",
     "output_type": "stream",
     "text": [
      "Groaooorrr\n",
      "GUUGG GUGG\n"
     ]
    }
   ],
   "source": [
    "class bear():\n",
    "    def sound(self):\n",
    "        print(\"Groaooorrr\")\n",
    "class dog():\n",
    "    def sound(self):\n",
    "        print(\"GUUGG GUGG\")\n",
    "        \n",
    "def makaSound(animal):\n",
    "    animal.sound()\n",
    "    \n",
    "bearObj = bear()\n",
    "dogObj = dog()\n",
    "\n",
    "makaSound(bearObj)\n",
    "makaSound(dogObj)"
   ]
  },
  {
   "cell_type": "code",
   "execution_count": 10,
   "metadata": {},
   "outputs": [
    {
     "name": "stdout",
     "output_type": "stream",
     "text": [
      "the shark is swimming\n",
      "the sharks cannot swim backward, but can sink backwards\n",
      "the shark's skeleton is made of cartilage\n",
      "the clowfish is swimming\n",
      "the clownfish can swim backward\n",
      "the clownfish's skeleton made bone\n"
     ]
    }
   ],
   "source": [
    "class shark():\n",
    "    def swim(self):\n",
    "        print(\"the shark is swimming\")\n",
    "    def swim_backwards(self):\n",
    "        print(\"the sharks cannot swim backward, but can sink backwards\")\n",
    "    def skeleton(self):\n",
    "        print(\"the shark's skeleton is made of cartilage\")\n",
    "        \n",
    "class clownfish():\n",
    "    def swim(self):\n",
    "        print(\"the clowfish is swimming\")\n",
    "    def swim_backwards(self):\n",
    "        print(\"the clownfish can swim backward\")\n",
    "    def skeleton (self):\n",
    "        print(\"the clownfish's skeleton made bone\")\n",
    "        \n",
    "sammy = shark()\n",
    "casey = clownfish()\n",
    "\n",
    "for fish in (sammy,casey):\n",
    "    fish.swim()\n",
    "    fish.swim_backwards()\n",
    "    fish.skeleton()\n",
    "    \n",
    "\n",
    "    "
   ]
  },
  {
   "cell_type": "code",
   "execution_count": 11,
   "metadata": {},
   "outputs": [
    {
     "name": "stdout",
     "output_type": "stream",
     "text": [
      "document1: Show pdf contents!\n",
      "document2: Show pdf contents!\n",
      "document3: show word contents!\n"
     ]
    }
   ],
   "source": [
    "class document:\n",
    "    def __init__(self,nama):\n",
    "        self.nama = nama\n",
    "        \n",
    "    def show(self):\n",
    "        raise NotImplementError(\"subclass must implement abstrak method\")\n",
    "    \n",
    "class pdf(document):\n",
    "    def show(self):\n",
    "        return \"Show pdf contents!\"\n",
    "    \n",
    "class word(document):\n",
    "    def show(self):\n",
    "        return \"show word contents!\"\n",
    "    \n",
    "documents = [pdf('document1'),\n",
    "            pdf('document2'),\n",
    "            word('document3')]\n",
    "for document in documents:\n",
    "    print(document.nama + ': ' + document.show())"
   ]
  },
  {
   "cell_type": "code",
   "execution_count": null,
   "metadata": {},
   "outputs": [],
   "source": [
    "class car :\n",
    "    def __init__(self,nama):\n",
    "        self.nama = nama\n",
    "    def drive(self):\n",
    "        raise NotImplementedError(\"subclass must implatament abstrack method\")\n",
    "    def stop(self):\n",
    "        raise NotImplementedError(\"subclass must implament abstrack method\")\n",
    "        \n",
    "class sportcar(car):\n",
    "    def drive(self):\n",
    "        return'sportcar driving!'\n",
    "    def stop(self):\n",
    "        return 'sportcar braking'\n",
    "class truck(car):\n",
    "    def drive(self):\n",
    "        return 'truck driving slowly because haevily loaded:'\n",
    "    def stop(self):\n",
    "        return 'truk braking!'\n",
    "    \n",
    "cars = [truck('bananatruck'),\n",
    "       truck('orangetruck'),\n",
    "       sportcar('23')]\n",
    "\n",
    "for car in cars :\n",
    "    print(car.nama + ' : '+ car.drive())\n",
    "    "
   ]
  }
 ],
 "metadata": {
  "kernelspec": {
   "display_name": "Python 3",
   "language": "python",
   "name": "python3"
  },
  "language_info": {
   "codemirror_mode": {
    "name": "ipython",
    "version": 3
   },
   "file_extension": ".py",
   "mimetype": "text/x-python",
   "name": "python",
   "nbconvert_exporter": "python",
   "pygments_lexer": "ipython3",
   "version": "3.7.1"
  }
 },
 "nbformat": 4,
 "nbformat_minor": 2
}
